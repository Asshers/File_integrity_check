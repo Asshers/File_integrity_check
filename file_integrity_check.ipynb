{
  "nbformat": 4,
  "nbformat_minor": 0,
  "metadata": {
    "colab": {
      "provenance": []
    },
    "kernelspec": {
      "name": "python3",
      "display_name": "Python 3"
    },
    "language_info": {
      "name": "python"
    }
  },
  "cells": [
    {
      "cell_type": "code",
      "execution_count": 1,
      "metadata": {
        "id": "awe3SpyLQ9_K"
      },
      "outputs": [],
      "source": [
        "import numpy as np\n",
        "import pandas as pd\n",
        "import warnings\n",
        "warnings.filterwarnings(\"ignore\")"
      ]
    },
    {
      "cell_type": "code",
      "source": [
        "#importing the dataset\n",
        "data = pd.read_excel(r\"/content/dataset.xlsx\")\n",
        "data"
      ],
      "metadata": {
        "id": "Kdx0XBHoRFBb",
        "colab": {
          "base_uri": "https://localhost:8080/",
          "height": 720
        },
        "outputId": "4b8b6cf9-6920-4d4f-804b-7615e0011be1"
      },
      "execution_count": 2,
      "outputs": [
        {
          "output_type": "execute_result",
          "data": {
            "text/plain": [
              "    Container No.           Object name  Object size Object Type  \\\n",
              "0             1.0  marksheet_compressed         1024         pdf   \n",
              "1             1.0              IMG-2021         2048         jpg   \n",
              "2             1.0           Cyber Mod 2         1024        pptx   \n",
              "3             2.0              workflow          512        docx   \n",
              "4             2.0           pngwing.com         2048         png   \n",
              "5             2.0                Cloud1          512         gif   \n",
              "6             3.0       fileMP4_640_3MG         3072         mp4   \n",
              "7             3.0           DOC-ASHWINI         1024        docx   \n",
              "8             3.0      ashwini-ppt-prjt         2048        pptx   \n",
              "9             2.0    activity chart new          512        xlsx   \n",
              "10            1.0                 chart         1024         png   \n",
              "11            2.0             ktu_notes         3072         pdf   \n",
              "12            NaN               ktu_img         1024         jpg   \n",
              "\n",
              "                                     Hash value (MD5)  \\\n",
              "0                    d41d8cd98f00b204e9800998ecf8427e   \n",
              "1   e3b0c44298fc1c149afbf4c8996fb92427ae41e4649b93...   \n",
              "2                    d41d8cd98f00b204e9800998ecf8427e   \n",
              "3                    098f6bcd4621d373cade4e832627b4f6   \n",
              "4   e3b0c44298fc1c149afbf4c8996fb92427ae41e4649b93...   \n",
              "5                    098f6bcd4621d373cade4e832627b4f6   \n",
              "6                    ff9d7ebdf593f862e6c52f86d3102458   \n",
              "7                    1f0e3dad99908345f7439f8ffabdffc4   \n",
              "8                    ab61bce8582db5092a77c3e94baa13a0   \n",
              "9            8f3e04b8b37c1b8536ea8bc6b92199115b5d27f9   \n",
              "10           c7d34931261ba872acb7e5a16c9f10ab6629c877   \n",
              "11                   ff9d7ebdf593f862e6c52f86d3102458   \n",
              "12                   1f0e3dad99908345f7439f8ffabdffc4   \n",
              "\n",
              "                           Hash value (SHA1)               Timestamp  \\\n",
              "0   da39a3ee5e6b4b0d3255bfef95601890afd80709 2022-10-24 15:27:38.995   \n",
              "1   5ba93c9db0cff93f52b521d7420e43f6eda2784f 2022-11-29 10:35:47.000   \n",
              "2   da39a3ee5e6b4b0d3255bfef95601890afd80709 2022-10-29 12:57:34.000   \n",
              "3   5d2a5f1a36db5063d524f20d440a8d77a3a8c137 2022-10-26 07:25:48.000   \n",
              "4   5ba93c9db0cff93f52b521d7420e43f6eda2784f 2022-10-27 10:21:59.000   \n",
              "5   5d2a5f1a36db5063d524f20d440a8d77a3a8c137 2022-11-18 15:07:31.000   \n",
              "6   da39a3ee5e6b4b0d3255bfef95601890afd80709 2022-10-29 11:20:08.000   \n",
              "7   5ba93c9db0cff93f52b521d7420e43f6eda2784f 2022-11-30 09:21:39.000   \n",
              "8    bc3e16d9990b4ea6e84f47c9e50f63b60f49937 2022-10-31 11:21:14.000   \n",
              "9   7d6c0018133858980a0141bc1a057f4d54a68113 2022-12-01 09:45:39.000   \n",
              "10  854e0599b19202c079cc0a5a76871a6f3f0fa137 2022-12-02 14:27:53.000   \n",
              "11  da39a3ee5e6b4b0d3255bfef95601890afd80709 2022-12-01 10:42:33.000   \n",
              "12  5ba93c9db0cff93f52b521d7420e43f6eda2784f 2022-12-02 10:42:33.000   \n",
              "\n",
              "   Source IP address Integrity check  \n",
              "0       192.168.1.17          intact  \n",
              "1       192.168.1.18          intact  \n",
              "2       192.168.1.17          intact  \n",
              "3       192.168.1.20          intact  \n",
              "4       192.168.1.18          intact  \n",
              "5       192.168.1.17          intact  \n",
              "6       192.168.1.20       corrupted  \n",
              "7       192.168.1.18       corrupted  \n",
              "8       192.168.1.20       corrupted  \n",
              "9       192.168.1.18          intact  \n",
              "10      192.168.1.20          intact  \n",
              "11      192.168.1.18       corrupted  \n",
              "12      192.168.1.19       corrupted  "
            ],
            "text/html": [
              "\n",
              "  <div id=\"df-fe4e400f-8488-48dc-b5ee-7028f2df4d4e\" class=\"colab-df-container\">\n",
              "    <div>\n",
              "<style scoped>\n",
              "    .dataframe tbody tr th:only-of-type {\n",
              "        vertical-align: middle;\n",
              "    }\n",
              "\n",
              "    .dataframe tbody tr th {\n",
              "        vertical-align: top;\n",
              "    }\n",
              "\n",
              "    .dataframe thead th {\n",
              "        text-align: right;\n",
              "    }\n",
              "</style>\n",
              "<table border=\"1\" class=\"dataframe\">\n",
              "  <thead>\n",
              "    <tr style=\"text-align: right;\">\n",
              "      <th></th>\n",
              "      <th>Container No.</th>\n",
              "      <th>Object name</th>\n",
              "      <th>Object size</th>\n",
              "      <th>Object Type</th>\n",
              "      <th>Hash value (MD5)</th>\n",
              "      <th>Hash value (SHA1)</th>\n",
              "      <th>Timestamp</th>\n",
              "      <th>Source IP address</th>\n",
              "      <th>Integrity check</th>\n",
              "    </tr>\n",
              "  </thead>\n",
              "  <tbody>\n",
              "    <tr>\n",
              "      <th>0</th>\n",
              "      <td>1.0</td>\n",
              "      <td>marksheet_compressed</td>\n",
              "      <td>1024</td>\n",
              "      <td>pdf</td>\n",
              "      <td>d41d8cd98f00b204e9800998ecf8427e</td>\n",
              "      <td>da39a3ee5e6b4b0d3255bfef95601890afd80709</td>\n",
              "      <td>2022-10-24 15:27:38.995</td>\n",
              "      <td>192.168.1.17</td>\n",
              "      <td>intact</td>\n",
              "    </tr>\n",
              "    <tr>\n",
              "      <th>1</th>\n",
              "      <td>1.0</td>\n",
              "      <td>IMG-2021</td>\n",
              "      <td>2048</td>\n",
              "      <td>jpg</td>\n",
              "      <td>e3b0c44298fc1c149afbf4c8996fb92427ae41e4649b93...</td>\n",
              "      <td>5ba93c9db0cff93f52b521d7420e43f6eda2784f</td>\n",
              "      <td>2022-11-29 10:35:47.000</td>\n",
              "      <td>192.168.1.18</td>\n",
              "      <td>intact</td>\n",
              "    </tr>\n",
              "    <tr>\n",
              "      <th>2</th>\n",
              "      <td>1.0</td>\n",
              "      <td>Cyber Mod 2</td>\n",
              "      <td>1024</td>\n",
              "      <td>pptx</td>\n",
              "      <td>d41d8cd98f00b204e9800998ecf8427e</td>\n",
              "      <td>da39a3ee5e6b4b0d3255bfef95601890afd80709</td>\n",
              "      <td>2022-10-29 12:57:34.000</td>\n",
              "      <td>192.168.1.17</td>\n",
              "      <td>intact</td>\n",
              "    </tr>\n",
              "    <tr>\n",
              "      <th>3</th>\n",
              "      <td>2.0</td>\n",
              "      <td>workflow</td>\n",
              "      <td>512</td>\n",
              "      <td>docx</td>\n",
              "      <td>098f6bcd4621d373cade4e832627b4f6</td>\n",
              "      <td>5d2a5f1a36db5063d524f20d440a8d77a3a8c137</td>\n",
              "      <td>2022-10-26 07:25:48.000</td>\n",
              "      <td>192.168.1.20</td>\n",
              "      <td>intact</td>\n",
              "    </tr>\n",
              "    <tr>\n",
              "      <th>4</th>\n",
              "      <td>2.0</td>\n",
              "      <td>pngwing.com</td>\n",
              "      <td>2048</td>\n",
              "      <td>png</td>\n",
              "      <td>e3b0c44298fc1c149afbf4c8996fb92427ae41e4649b93...</td>\n",
              "      <td>5ba93c9db0cff93f52b521d7420e43f6eda2784f</td>\n",
              "      <td>2022-10-27 10:21:59.000</td>\n",
              "      <td>192.168.1.18</td>\n",
              "      <td>intact</td>\n",
              "    </tr>\n",
              "    <tr>\n",
              "      <th>5</th>\n",
              "      <td>2.0</td>\n",
              "      <td>Cloud1</td>\n",
              "      <td>512</td>\n",
              "      <td>gif</td>\n",
              "      <td>098f6bcd4621d373cade4e832627b4f6</td>\n",
              "      <td>5d2a5f1a36db5063d524f20d440a8d77a3a8c137</td>\n",
              "      <td>2022-11-18 15:07:31.000</td>\n",
              "      <td>192.168.1.17</td>\n",
              "      <td>intact</td>\n",
              "    </tr>\n",
              "    <tr>\n",
              "      <th>6</th>\n",
              "      <td>3.0</td>\n",
              "      <td>fileMP4_640_3MG</td>\n",
              "      <td>3072</td>\n",
              "      <td>mp4</td>\n",
              "      <td>ff9d7ebdf593f862e6c52f86d3102458</td>\n",
              "      <td>da39a3ee5e6b4b0d3255bfef95601890afd80709</td>\n",
              "      <td>2022-10-29 11:20:08.000</td>\n",
              "      <td>192.168.1.20</td>\n",
              "      <td>corrupted</td>\n",
              "    </tr>\n",
              "    <tr>\n",
              "      <th>7</th>\n",
              "      <td>3.0</td>\n",
              "      <td>DOC-ASHWINI</td>\n",
              "      <td>1024</td>\n",
              "      <td>docx</td>\n",
              "      <td>1f0e3dad99908345f7439f8ffabdffc4</td>\n",
              "      <td>5ba93c9db0cff93f52b521d7420e43f6eda2784f</td>\n",
              "      <td>2022-11-30 09:21:39.000</td>\n",
              "      <td>192.168.1.18</td>\n",
              "      <td>corrupted</td>\n",
              "    </tr>\n",
              "    <tr>\n",
              "      <th>8</th>\n",
              "      <td>3.0</td>\n",
              "      <td>ashwini-ppt-prjt</td>\n",
              "      <td>2048</td>\n",
              "      <td>pptx</td>\n",
              "      <td>ab61bce8582db5092a77c3e94baa13a0</td>\n",
              "      <td>bc3e16d9990b4ea6e84f47c9e50f63b60f49937</td>\n",
              "      <td>2022-10-31 11:21:14.000</td>\n",
              "      <td>192.168.1.20</td>\n",
              "      <td>corrupted</td>\n",
              "    </tr>\n",
              "    <tr>\n",
              "      <th>9</th>\n",
              "      <td>2.0</td>\n",
              "      <td>activity chart new</td>\n",
              "      <td>512</td>\n",
              "      <td>xlsx</td>\n",
              "      <td>8f3e04b8b37c1b8536ea8bc6b92199115b5d27f9</td>\n",
              "      <td>7d6c0018133858980a0141bc1a057f4d54a68113</td>\n",
              "      <td>2022-12-01 09:45:39.000</td>\n",
              "      <td>192.168.1.18</td>\n",
              "      <td>intact</td>\n",
              "    </tr>\n",
              "    <tr>\n",
              "      <th>10</th>\n",
              "      <td>1.0</td>\n",
              "      <td>chart</td>\n",
              "      <td>1024</td>\n",
              "      <td>png</td>\n",
              "      <td>c7d34931261ba872acb7e5a16c9f10ab6629c877</td>\n",
              "      <td>854e0599b19202c079cc0a5a76871a6f3f0fa137</td>\n",
              "      <td>2022-12-02 14:27:53.000</td>\n",
              "      <td>192.168.1.20</td>\n",
              "      <td>intact</td>\n",
              "    </tr>\n",
              "    <tr>\n",
              "      <th>11</th>\n",
              "      <td>2.0</td>\n",
              "      <td>ktu_notes</td>\n",
              "      <td>3072</td>\n",
              "      <td>pdf</td>\n",
              "      <td>ff9d7ebdf593f862e6c52f86d3102458</td>\n",
              "      <td>da39a3ee5e6b4b0d3255bfef95601890afd80709</td>\n",
              "      <td>2022-12-01 10:42:33.000</td>\n",
              "      <td>192.168.1.18</td>\n",
              "      <td>corrupted</td>\n",
              "    </tr>\n",
              "    <tr>\n",
              "      <th>12</th>\n",
              "      <td>NaN</td>\n",
              "      <td>ktu_img</td>\n",
              "      <td>1024</td>\n",
              "      <td>jpg</td>\n",
              "      <td>1f0e3dad99908345f7439f8ffabdffc4</td>\n",
              "      <td>5ba93c9db0cff93f52b521d7420e43f6eda2784f</td>\n",
              "      <td>2022-12-02 10:42:33.000</td>\n",
              "      <td>192.168.1.19</td>\n",
              "      <td>corrupted</td>\n",
              "    </tr>\n",
              "  </tbody>\n",
              "</table>\n",
              "</div>\n",
              "    <div class=\"colab-df-buttons\">\n",
              "\n",
              "  <div class=\"colab-df-container\">\n",
              "    <button class=\"colab-df-convert\" onclick=\"convertToInteractive('df-fe4e400f-8488-48dc-b5ee-7028f2df4d4e')\"\n",
              "            title=\"Convert this dataframe to an interactive table.\"\n",
              "            style=\"display:none;\">\n",
              "\n",
              "  <svg xmlns=\"http://www.w3.org/2000/svg\" height=\"24px\" viewBox=\"0 -960 960 960\">\n",
              "    <path d=\"M120-120v-720h720v720H120Zm60-500h600v-160H180v160Zm220 220h160v-160H400v160Zm0 220h160v-160H400v160ZM180-400h160v-160H180v160Zm440 0h160v-160H620v160ZM180-180h160v-160H180v160Zm440 0h160v-160H620v160Z\"/>\n",
              "  </svg>\n",
              "    </button>\n",
              "\n",
              "  <style>\n",
              "    .colab-df-container {\n",
              "      display:flex;\n",
              "      gap: 12px;\n",
              "    }\n",
              "\n",
              "    .colab-df-convert {\n",
              "      background-color: #E8F0FE;\n",
              "      border: none;\n",
              "      border-radius: 50%;\n",
              "      cursor: pointer;\n",
              "      display: none;\n",
              "      fill: #1967D2;\n",
              "      height: 32px;\n",
              "      padding: 0 0 0 0;\n",
              "      width: 32px;\n",
              "    }\n",
              "\n",
              "    .colab-df-convert:hover {\n",
              "      background-color: #E2EBFA;\n",
              "      box-shadow: 0px 1px 2px rgba(60, 64, 67, 0.3), 0px 1px 3px 1px rgba(60, 64, 67, 0.15);\n",
              "      fill: #174EA6;\n",
              "    }\n",
              "\n",
              "    .colab-df-buttons div {\n",
              "      margin-bottom: 4px;\n",
              "    }\n",
              "\n",
              "    [theme=dark] .colab-df-convert {\n",
              "      background-color: #3B4455;\n",
              "      fill: #D2E3FC;\n",
              "    }\n",
              "\n",
              "    [theme=dark] .colab-df-convert:hover {\n",
              "      background-color: #434B5C;\n",
              "      box-shadow: 0px 1px 3px 1px rgba(0, 0, 0, 0.15);\n",
              "      filter: drop-shadow(0px 1px 2px rgba(0, 0, 0, 0.3));\n",
              "      fill: #FFFFFF;\n",
              "    }\n",
              "  </style>\n",
              "\n",
              "    <script>\n",
              "      const buttonEl =\n",
              "        document.querySelector('#df-fe4e400f-8488-48dc-b5ee-7028f2df4d4e button.colab-df-convert');\n",
              "      buttonEl.style.display =\n",
              "        google.colab.kernel.accessAllowed ? 'block' : 'none';\n",
              "\n",
              "      async function convertToInteractive(key) {\n",
              "        const element = document.querySelector('#df-fe4e400f-8488-48dc-b5ee-7028f2df4d4e');\n",
              "        const dataTable =\n",
              "          await google.colab.kernel.invokeFunction('convertToInteractive',\n",
              "                                                    [key], {});\n",
              "        if (!dataTable) return;\n",
              "\n",
              "        const docLinkHtml = 'Like what you see? Visit the ' +\n",
              "          '<a target=\"_blank\" href=https://colab.research.google.com/notebooks/data_table.ipynb>data table notebook</a>'\n",
              "          + ' to learn more about interactive tables.';\n",
              "        element.innerHTML = '';\n",
              "        dataTable['output_type'] = 'display_data';\n",
              "        await google.colab.output.renderOutput(dataTable, element);\n",
              "        const docLink = document.createElement('div');\n",
              "        docLink.innerHTML = docLinkHtml;\n",
              "        element.appendChild(docLink);\n",
              "      }\n",
              "    </script>\n",
              "  </div>\n",
              "\n",
              "\n",
              "<div id=\"df-46e09b43-3316-4367-ad3a-774ec5985cc6\">\n",
              "  <button class=\"colab-df-quickchart\" onclick=\"quickchart('df-46e09b43-3316-4367-ad3a-774ec5985cc6')\"\n",
              "            title=\"Suggest charts\"\n",
              "            style=\"display:none;\">\n",
              "\n",
              "<svg xmlns=\"http://www.w3.org/2000/svg\" height=\"24px\"viewBox=\"0 0 24 24\"\n",
              "     width=\"24px\">\n",
              "    <g>\n",
              "        <path d=\"M19 3H5c-1.1 0-2 .9-2 2v14c0 1.1.9 2 2 2h14c1.1 0 2-.9 2-2V5c0-1.1-.9-2-2-2zM9 17H7v-7h2v7zm4 0h-2V7h2v10zm4 0h-2v-4h2v4z\"/>\n",
              "    </g>\n",
              "</svg>\n",
              "  </button>\n",
              "\n",
              "<style>\n",
              "  .colab-df-quickchart {\n",
              "      --bg-color: #E8F0FE;\n",
              "      --fill-color: #1967D2;\n",
              "      --hover-bg-color: #E2EBFA;\n",
              "      --hover-fill-color: #174EA6;\n",
              "      --disabled-fill-color: #AAA;\n",
              "      --disabled-bg-color: #DDD;\n",
              "  }\n",
              "\n",
              "  [theme=dark] .colab-df-quickchart {\n",
              "      --bg-color: #3B4455;\n",
              "      --fill-color: #D2E3FC;\n",
              "      --hover-bg-color: #434B5C;\n",
              "      --hover-fill-color: #FFFFFF;\n",
              "      --disabled-bg-color: #3B4455;\n",
              "      --disabled-fill-color: #666;\n",
              "  }\n",
              "\n",
              "  .colab-df-quickchart {\n",
              "    background-color: var(--bg-color);\n",
              "    border: none;\n",
              "    border-radius: 50%;\n",
              "    cursor: pointer;\n",
              "    display: none;\n",
              "    fill: var(--fill-color);\n",
              "    height: 32px;\n",
              "    padding: 0;\n",
              "    width: 32px;\n",
              "  }\n",
              "\n",
              "  .colab-df-quickchart:hover {\n",
              "    background-color: var(--hover-bg-color);\n",
              "    box-shadow: 0 1px 2px rgba(60, 64, 67, 0.3), 0 1px 3px 1px rgba(60, 64, 67, 0.15);\n",
              "    fill: var(--button-hover-fill-color);\n",
              "  }\n",
              "\n",
              "  .colab-df-quickchart-complete:disabled,\n",
              "  .colab-df-quickchart-complete:disabled:hover {\n",
              "    background-color: var(--disabled-bg-color);\n",
              "    fill: var(--disabled-fill-color);\n",
              "    box-shadow: none;\n",
              "  }\n",
              "\n",
              "  .colab-df-spinner {\n",
              "    border: 2px solid var(--fill-color);\n",
              "    border-color: transparent;\n",
              "    border-bottom-color: var(--fill-color);\n",
              "    animation:\n",
              "      spin 1s steps(1) infinite;\n",
              "  }\n",
              "\n",
              "  @keyframes spin {\n",
              "    0% {\n",
              "      border-color: transparent;\n",
              "      border-bottom-color: var(--fill-color);\n",
              "      border-left-color: var(--fill-color);\n",
              "    }\n",
              "    20% {\n",
              "      border-color: transparent;\n",
              "      border-left-color: var(--fill-color);\n",
              "      border-top-color: var(--fill-color);\n",
              "    }\n",
              "    30% {\n",
              "      border-color: transparent;\n",
              "      border-left-color: var(--fill-color);\n",
              "      border-top-color: var(--fill-color);\n",
              "      border-right-color: var(--fill-color);\n",
              "    }\n",
              "    40% {\n",
              "      border-color: transparent;\n",
              "      border-right-color: var(--fill-color);\n",
              "      border-top-color: var(--fill-color);\n",
              "    }\n",
              "    60% {\n",
              "      border-color: transparent;\n",
              "      border-right-color: var(--fill-color);\n",
              "    }\n",
              "    80% {\n",
              "      border-color: transparent;\n",
              "      border-right-color: var(--fill-color);\n",
              "      border-bottom-color: var(--fill-color);\n",
              "    }\n",
              "    90% {\n",
              "      border-color: transparent;\n",
              "      border-bottom-color: var(--fill-color);\n",
              "    }\n",
              "  }\n",
              "</style>\n",
              "\n",
              "  <script>\n",
              "    async function quickchart(key) {\n",
              "      const quickchartButtonEl =\n",
              "        document.querySelector('#' + key + ' button');\n",
              "      quickchartButtonEl.disabled = true;  // To prevent multiple clicks.\n",
              "      quickchartButtonEl.classList.add('colab-df-spinner');\n",
              "      try {\n",
              "        const charts = await google.colab.kernel.invokeFunction(\n",
              "            'suggestCharts', [key], {});\n",
              "      } catch (error) {\n",
              "        console.error('Error during call to suggestCharts:', error);\n",
              "      }\n",
              "      quickchartButtonEl.classList.remove('colab-df-spinner');\n",
              "      quickchartButtonEl.classList.add('colab-df-quickchart-complete');\n",
              "    }\n",
              "    (() => {\n",
              "      let quickchartButtonEl =\n",
              "        document.querySelector('#df-46e09b43-3316-4367-ad3a-774ec5985cc6 button');\n",
              "      quickchartButtonEl.style.display =\n",
              "        google.colab.kernel.accessAllowed ? 'block' : 'none';\n",
              "    })();\n",
              "  </script>\n",
              "</div>\n",
              "    </div>\n",
              "  </div>\n"
            ]
          },
          "metadata": {},
          "execution_count": 2
        }
      ]
    },
    {
      "cell_type": "code",
      "source": [
        "data.head(5)"
      ],
      "metadata": {
        "id": "awS_41CkTYmA",
        "colab": {
          "base_uri": "https://localhost:8080/",
          "height": 330
        },
        "outputId": "d761f833-5d8a-4398-8f1c-5fffebb54058"
      },
      "execution_count": 3,
      "outputs": [
        {
          "output_type": "execute_result",
          "data": {
            "text/plain": [
              "   Container No.           Object name  Object size Object Type  \\\n",
              "0            1.0  marksheet_compressed         1024         pdf   \n",
              "1            1.0              IMG-2021         2048         jpg   \n",
              "2            1.0           Cyber Mod 2         1024        pptx   \n",
              "3            2.0              workflow          512        docx   \n",
              "4            2.0           pngwing.com         2048         png   \n",
              "\n",
              "                                    Hash value (MD5)  \\\n",
              "0                   d41d8cd98f00b204e9800998ecf8427e   \n",
              "1  e3b0c44298fc1c149afbf4c8996fb92427ae41e4649b93...   \n",
              "2                   d41d8cd98f00b204e9800998ecf8427e   \n",
              "3                   098f6bcd4621d373cade4e832627b4f6   \n",
              "4  e3b0c44298fc1c149afbf4c8996fb92427ae41e4649b93...   \n",
              "\n",
              "                          Hash value (SHA1)               Timestamp  \\\n",
              "0  da39a3ee5e6b4b0d3255bfef95601890afd80709 2022-10-24 15:27:38.995   \n",
              "1  5ba93c9db0cff93f52b521d7420e43f6eda2784f 2022-11-29 10:35:47.000   \n",
              "2  da39a3ee5e6b4b0d3255bfef95601890afd80709 2022-10-29 12:57:34.000   \n",
              "3  5d2a5f1a36db5063d524f20d440a8d77a3a8c137 2022-10-26 07:25:48.000   \n",
              "4  5ba93c9db0cff93f52b521d7420e43f6eda2784f 2022-10-27 10:21:59.000   \n",
              "\n",
              "  Source IP address Integrity check  \n",
              "0      192.168.1.17          intact  \n",
              "1      192.168.1.18          intact  \n",
              "2      192.168.1.17          intact  \n",
              "3      192.168.1.20          intact  \n",
              "4      192.168.1.18          intact  "
            ],
            "text/html": [
              "\n",
              "  <div id=\"df-af0f18ef-5513-4d48-b8af-4cacc3852267\" class=\"colab-df-container\">\n",
              "    <div>\n",
              "<style scoped>\n",
              "    .dataframe tbody tr th:only-of-type {\n",
              "        vertical-align: middle;\n",
              "    }\n",
              "\n",
              "    .dataframe tbody tr th {\n",
              "        vertical-align: top;\n",
              "    }\n",
              "\n",
              "    .dataframe thead th {\n",
              "        text-align: right;\n",
              "    }\n",
              "</style>\n",
              "<table border=\"1\" class=\"dataframe\">\n",
              "  <thead>\n",
              "    <tr style=\"text-align: right;\">\n",
              "      <th></th>\n",
              "      <th>Container No.</th>\n",
              "      <th>Object name</th>\n",
              "      <th>Object size</th>\n",
              "      <th>Object Type</th>\n",
              "      <th>Hash value (MD5)</th>\n",
              "      <th>Hash value (SHA1)</th>\n",
              "      <th>Timestamp</th>\n",
              "      <th>Source IP address</th>\n",
              "      <th>Integrity check</th>\n",
              "    </tr>\n",
              "  </thead>\n",
              "  <tbody>\n",
              "    <tr>\n",
              "      <th>0</th>\n",
              "      <td>1.0</td>\n",
              "      <td>marksheet_compressed</td>\n",
              "      <td>1024</td>\n",
              "      <td>pdf</td>\n",
              "      <td>d41d8cd98f00b204e9800998ecf8427e</td>\n",
              "      <td>da39a3ee5e6b4b0d3255bfef95601890afd80709</td>\n",
              "      <td>2022-10-24 15:27:38.995</td>\n",
              "      <td>192.168.1.17</td>\n",
              "      <td>intact</td>\n",
              "    </tr>\n",
              "    <tr>\n",
              "      <th>1</th>\n",
              "      <td>1.0</td>\n",
              "      <td>IMG-2021</td>\n",
              "      <td>2048</td>\n",
              "      <td>jpg</td>\n",
              "      <td>e3b0c44298fc1c149afbf4c8996fb92427ae41e4649b93...</td>\n",
              "      <td>5ba93c9db0cff93f52b521d7420e43f6eda2784f</td>\n",
              "      <td>2022-11-29 10:35:47.000</td>\n",
              "      <td>192.168.1.18</td>\n",
              "      <td>intact</td>\n",
              "    </tr>\n",
              "    <tr>\n",
              "      <th>2</th>\n",
              "      <td>1.0</td>\n",
              "      <td>Cyber Mod 2</td>\n",
              "      <td>1024</td>\n",
              "      <td>pptx</td>\n",
              "      <td>d41d8cd98f00b204e9800998ecf8427e</td>\n",
              "      <td>da39a3ee5e6b4b0d3255bfef95601890afd80709</td>\n",
              "      <td>2022-10-29 12:57:34.000</td>\n",
              "      <td>192.168.1.17</td>\n",
              "      <td>intact</td>\n",
              "    </tr>\n",
              "    <tr>\n",
              "      <th>3</th>\n",
              "      <td>2.0</td>\n",
              "      <td>workflow</td>\n",
              "      <td>512</td>\n",
              "      <td>docx</td>\n",
              "      <td>098f6bcd4621d373cade4e832627b4f6</td>\n",
              "      <td>5d2a5f1a36db5063d524f20d440a8d77a3a8c137</td>\n",
              "      <td>2022-10-26 07:25:48.000</td>\n",
              "      <td>192.168.1.20</td>\n",
              "      <td>intact</td>\n",
              "    </tr>\n",
              "    <tr>\n",
              "      <th>4</th>\n",
              "      <td>2.0</td>\n",
              "      <td>pngwing.com</td>\n",
              "      <td>2048</td>\n",
              "      <td>png</td>\n",
              "      <td>e3b0c44298fc1c149afbf4c8996fb92427ae41e4649b93...</td>\n",
              "      <td>5ba93c9db0cff93f52b521d7420e43f6eda2784f</td>\n",
              "      <td>2022-10-27 10:21:59.000</td>\n",
              "      <td>192.168.1.18</td>\n",
              "      <td>intact</td>\n",
              "    </tr>\n",
              "  </tbody>\n",
              "</table>\n",
              "</div>\n",
              "    <div class=\"colab-df-buttons\">\n",
              "\n",
              "  <div class=\"colab-df-container\">\n",
              "    <button class=\"colab-df-convert\" onclick=\"convertToInteractive('df-af0f18ef-5513-4d48-b8af-4cacc3852267')\"\n",
              "            title=\"Convert this dataframe to an interactive table.\"\n",
              "            style=\"display:none;\">\n",
              "\n",
              "  <svg xmlns=\"http://www.w3.org/2000/svg\" height=\"24px\" viewBox=\"0 -960 960 960\">\n",
              "    <path d=\"M120-120v-720h720v720H120Zm60-500h600v-160H180v160Zm220 220h160v-160H400v160Zm0 220h160v-160H400v160ZM180-400h160v-160H180v160Zm440 0h160v-160H620v160ZM180-180h160v-160H180v160Zm440 0h160v-160H620v160Z\"/>\n",
              "  </svg>\n",
              "    </button>\n",
              "\n",
              "  <style>\n",
              "    .colab-df-container {\n",
              "      display:flex;\n",
              "      gap: 12px;\n",
              "    }\n",
              "\n",
              "    .colab-df-convert {\n",
              "      background-color: #E8F0FE;\n",
              "      border: none;\n",
              "      border-radius: 50%;\n",
              "      cursor: pointer;\n",
              "      display: none;\n",
              "      fill: #1967D2;\n",
              "      height: 32px;\n",
              "      padding: 0 0 0 0;\n",
              "      width: 32px;\n",
              "    }\n",
              "\n",
              "    .colab-df-convert:hover {\n",
              "      background-color: #E2EBFA;\n",
              "      box-shadow: 0px 1px 2px rgba(60, 64, 67, 0.3), 0px 1px 3px 1px rgba(60, 64, 67, 0.15);\n",
              "      fill: #174EA6;\n",
              "    }\n",
              "\n",
              "    .colab-df-buttons div {\n",
              "      margin-bottom: 4px;\n",
              "    }\n",
              "\n",
              "    [theme=dark] .colab-df-convert {\n",
              "      background-color: #3B4455;\n",
              "      fill: #D2E3FC;\n",
              "    }\n",
              "\n",
              "    [theme=dark] .colab-df-convert:hover {\n",
              "      background-color: #434B5C;\n",
              "      box-shadow: 0px 1px 3px 1px rgba(0, 0, 0, 0.15);\n",
              "      filter: drop-shadow(0px 1px 2px rgba(0, 0, 0, 0.3));\n",
              "      fill: #FFFFFF;\n",
              "    }\n",
              "  </style>\n",
              "\n",
              "    <script>\n",
              "      const buttonEl =\n",
              "        document.querySelector('#df-af0f18ef-5513-4d48-b8af-4cacc3852267 button.colab-df-convert');\n",
              "      buttonEl.style.display =\n",
              "        google.colab.kernel.accessAllowed ? 'block' : 'none';\n",
              "\n",
              "      async function convertToInteractive(key) {\n",
              "        const element = document.querySelector('#df-af0f18ef-5513-4d48-b8af-4cacc3852267');\n",
              "        const dataTable =\n",
              "          await google.colab.kernel.invokeFunction('convertToInteractive',\n",
              "                                                    [key], {});\n",
              "        if (!dataTable) return;\n",
              "\n",
              "        const docLinkHtml = 'Like what you see? Visit the ' +\n",
              "          '<a target=\"_blank\" href=https://colab.research.google.com/notebooks/data_table.ipynb>data table notebook</a>'\n",
              "          + ' to learn more about interactive tables.';\n",
              "        element.innerHTML = '';\n",
              "        dataTable['output_type'] = 'display_data';\n",
              "        await google.colab.output.renderOutput(dataTable, element);\n",
              "        const docLink = document.createElement('div');\n",
              "        docLink.innerHTML = docLinkHtml;\n",
              "        element.appendChild(docLink);\n",
              "      }\n",
              "    </script>\n",
              "  </div>\n",
              "\n",
              "\n",
              "<div id=\"df-628c84b7-fb9a-45ff-b1b4-dc9c9f974f31\">\n",
              "  <button class=\"colab-df-quickchart\" onclick=\"quickchart('df-628c84b7-fb9a-45ff-b1b4-dc9c9f974f31')\"\n",
              "            title=\"Suggest charts\"\n",
              "            style=\"display:none;\">\n",
              "\n",
              "<svg xmlns=\"http://www.w3.org/2000/svg\" height=\"24px\"viewBox=\"0 0 24 24\"\n",
              "     width=\"24px\">\n",
              "    <g>\n",
              "        <path d=\"M19 3H5c-1.1 0-2 .9-2 2v14c0 1.1.9 2 2 2h14c1.1 0 2-.9 2-2V5c0-1.1-.9-2-2-2zM9 17H7v-7h2v7zm4 0h-2V7h2v10zm4 0h-2v-4h2v4z\"/>\n",
              "    </g>\n",
              "</svg>\n",
              "  </button>\n",
              "\n",
              "<style>\n",
              "  .colab-df-quickchart {\n",
              "      --bg-color: #E8F0FE;\n",
              "      --fill-color: #1967D2;\n",
              "      --hover-bg-color: #E2EBFA;\n",
              "      --hover-fill-color: #174EA6;\n",
              "      --disabled-fill-color: #AAA;\n",
              "      --disabled-bg-color: #DDD;\n",
              "  }\n",
              "\n",
              "  [theme=dark] .colab-df-quickchart {\n",
              "      --bg-color: #3B4455;\n",
              "      --fill-color: #D2E3FC;\n",
              "      --hover-bg-color: #434B5C;\n",
              "      --hover-fill-color: #FFFFFF;\n",
              "      --disabled-bg-color: #3B4455;\n",
              "      --disabled-fill-color: #666;\n",
              "  }\n",
              "\n",
              "  .colab-df-quickchart {\n",
              "    background-color: var(--bg-color);\n",
              "    border: none;\n",
              "    border-radius: 50%;\n",
              "    cursor: pointer;\n",
              "    display: none;\n",
              "    fill: var(--fill-color);\n",
              "    height: 32px;\n",
              "    padding: 0;\n",
              "    width: 32px;\n",
              "  }\n",
              "\n",
              "  .colab-df-quickchart:hover {\n",
              "    background-color: var(--hover-bg-color);\n",
              "    box-shadow: 0 1px 2px rgba(60, 64, 67, 0.3), 0 1px 3px 1px rgba(60, 64, 67, 0.15);\n",
              "    fill: var(--button-hover-fill-color);\n",
              "  }\n",
              "\n",
              "  .colab-df-quickchart-complete:disabled,\n",
              "  .colab-df-quickchart-complete:disabled:hover {\n",
              "    background-color: var(--disabled-bg-color);\n",
              "    fill: var(--disabled-fill-color);\n",
              "    box-shadow: none;\n",
              "  }\n",
              "\n",
              "  .colab-df-spinner {\n",
              "    border: 2px solid var(--fill-color);\n",
              "    border-color: transparent;\n",
              "    border-bottom-color: var(--fill-color);\n",
              "    animation:\n",
              "      spin 1s steps(1) infinite;\n",
              "  }\n",
              "\n",
              "  @keyframes spin {\n",
              "    0% {\n",
              "      border-color: transparent;\n",
              "      border-bottom-color: var(--fill-color);\n",
              "      border-left-color: var(--fill-color);\n",
              "    }\n",
              "    20% {\n",
              "      border-color: transparent;\n",
              "      border-left-color: var(--fill-color);\n",
              "      border-top-color: var(--fill-color);\n",
              "    }\n",
              "    30% {\n",
              "      border-color: transparent;\n",
              "      border-left-color: var(--fill-color);\n",
              "      border-top-color: var(--fill-color);\n",
              "      border-right-color: var(--fill-color);\n",
              "    }\n",
              "    40% {\n",
              "      border-color: transparent;\n",
              "      border-right-color: var(--fill-color);\n",
              "      border-top-color: var(--fill-color);\n",
              "    }\n",
              "    60% {\n",
              "      border-color: transparent;\n",
              "      border-right-color: var(--fill-color);\n",
              "    }\n",
              "    80% {\n",
              "      border-color: transparent;\n",
              "      border-right-color: var(--fill-color);\n",
              "      border-bottom-color: var(--fill-color);\n",
              "    }\n",
              "    90% {\n",
              "      border-color: transparent;\n",
              "      border-bottom-color: var(--fill-color);\n",
              "    }\n",
              "  }\n",
              "</style>\n",
              "\n",
              "  <script>\n",
              "    async function quickchart(key) {\n",
              "      const quickchartButtonEl =\n",
              "        document.querySelector('#' + key + ' button');\n",
              "      quickchartButtonEl.disabled = true;  // To prevent multiple clicks.\n",
              "      quickchartButtonEl.classList.add('colab-df-spinner');\n",
              "      try {\n",
              "        const charts = await google.colab.kernel.invokeFunction(\n",
              "            'suggestCharts', [key], {});\n",
              "      } catch (error) {\n",
              "        console.error('Error during call to suggestCharts:', error);\n",
              "      }\n",
              "      quickchartButtonEl.classList.remove('colab-df-spinner');\n",
              "      quickchartButtonEl.classList.add('colab-df-quickchart-complete');\n",
              "    }\n",
              "    (() => {\n",
              "      let quickchartButtonEl =\n",
              "        document.querySelector('#df-628c84b7-fb9a-45ff-b1b4-dc9c9f974f31 button');\n",
              "      quickchartButtonEl.style.display =\n",
              "        google.colab.kernel.accessAllowed ? 'block' : 'none';\n",
              "    })();\n",
              "  </script>\n",
              "</div>\n",
              "    </div>\n",
              "  </div>\n"
            ]
          },
          "metadata": {},
          "execution_count": 3
        }
      ]
    },
    {
      "cell_type": "code",
      "source": [
        "data.info"
      ],
      "metadata": {
        "colab": {
          "base_uri": "https://localhost:8080/"
        },
        "id": "NUHuGbcTW5bU",
        "outputId": "9c8339b4-aef6-402b-ea56-bf2c71ce8e6f"
      },
      "execution_count": 4,
      "outputs": [
        {
          "output_type": "execute_result",
          "data": {
            "text/plain": [
              "<bound method DataFrame.info of     Container No.           Object name  Object size Object Type  \\\n",
              "0             1.0  marksheet_compressed         1024         pdf   \n",
              "1             1.0              IMG-2021         2048         jpg   \n",
              "2             1.0           Cyber Mod 2         1024        pptx   \n",
              "3             2.0              workflow          512        docx   \n",
              "4             2.0           pngwing.com         2048         png   \n",
              "5             2.0                Cloud1          512         gif   \n",
              "6             3.0       fileMP4_640_3MG         3072         mp4   \n",
              "7             3.0           DOC-ASHWINI         1024        docx   \n",
              "8             3.0      ashwini-ppt-prjt         2048        pptx   \n",
              "9             2.0    activity chart new          512        xlsx   \n",
              "10            1.0                 chart         1024         png   \n",
              "11            2.0             ktu_notes         3072         pdf   \n",
              "12            NaN               ktu_img         1024         jpg   \n",
              "\n",
              "                                     Hash value (MD5)  \\\n",
              "0                    d41d8cd98f00b204e9800998ecf8427e   \n",
              "1   e3b0c44298fc1c149afbf4c8996fb92427ae41e4649b93...   \n",
              "2                    d41d8cd98f00b204e9800998ecf8427e   \n",
              "3                    098f6bcd4621d373cade4e832627b4f6   \n",
              "4   e3b0c44298fc1c149afbf4c8996fb92427ae41e4649b93...   \n",
              "5                    098f6bcd4621d373cade4e832627b4f6   \n",
              "6                    ff9d7ebdf593f862e6c52f86d3102458   \n",
              "7                    1f0e3dad99908345f7439f8ffabdffc4   \n",
              "8                    ab61bce8582db5092a77c3e94baa13a0   \n",
              "9            8f3e04b8b37c1b8536ea8bc6b92199115b5d27f9   \n",
              "10           c7d34931261ba872acb7e5a16c9f10ab6629c877   \n",
              "11                   ff9d7ebdf593f862e6c52f86d3102458   \n",
              "12                   1f0e3dad99908345f7439f8ffabdffc4   \n",
              "\n",
              "                           Hash value (SHA1)               Timestamp  \\\n",
              "0   da39a3ee5e6b4b0d3255bfef95601890afd80709 2022-10-24 15:27:38.995   \n",
              "1   5ba93c9db0cff93f52b521d7420e43f6eda2784f 2022-11-29 10:35:47.000   \n",
              "2   da39a3ee5e6b4b0d3255bfef95601890afd80709 2022-10-29 12:57:34.000   \n",
              "3   5d2a5f1a36db5063d524f20d440a8d77a3a8c137 2022-10-26 07:25:48.000   \n",
              "4   5ba93c9db0cff93f52b521d7420e43f6eda2784f 2022-10-27 10:21:59.000   \n",
              "5   5d2a5f1a36db5063d524f20d440a8d77a3a8c137 2022-11-18 15:07:31.000   \n",
              "6   da39a3ee5e6b4b0d3255bfef95601890afd80709 2022-10-29 11:20:08.000   \n",
              "7   5ba93c9db0cff93f52b521d7420e43f6eda2784f 2022-11-30 09:21:39.000   \n",
              "8    bc3e16d9990b4ea6e84f47c9e50f63b60f49937 2022-10-31 11:21:14.000   \n",
              "9   7d6c0018133858980a0141bc1a057f4d54a68113 2022-12-01 09:45:39.000   \n",
              "10  854e0599b19202c079cc0a5a76871a6f3f0fa137 2022-12-02 14:27:53.000   \n",
              "11  da39a3ee5e6b4b0d3255bfef95601890afd80709 2022-12-01 10:42:33.000   \n",
              "12  5ba93c9db0cff93f52b521d7420e43f6eda2784f 2022-12-02 10:42:33.000   \n",
              "\n",
              "   Source IP address Integrity check  \n",
              "0       192.168.1.17          intact  \n",
              "1       192.168.1.18          intact  \n",
              "2       192.168.1.17          intact  \n",
              "3       192.168.1.20          intact  \n",
              "4       192.168.1.18          intact  \n",
              "5       192.168.1.17          intact  \n",
              "6       192.168.1.20       corrupted  \n",
              "7       192.168.1.18       corrupted  \n",
              "8       192.168.1.20       corrupted  \n",
              "9       192.168.1.18          intact  \n",
              "10      192.168.1.20          intact  \n",
              "11      192.168.1.18       corrupted  \n",
              "12      192.168.1.19       corrupted  >"
            ]
          },
          "metadata": {},
          "execution_count": 4
        }
      ]
    },
    {
      "cell_type": "code",
      "source": [
        "data.shape"
      ],
      "metadata": {
        "colab": {
          "base_uri": "https://localhost:8080/"
        },
        "id": "Q7JcUqaDXAYk",
        "outputId": "974e5abd-2adc-4579-a8cc-b91fa648fbd1"
      },
      "execution_count": 5,
      "outputs": [
        {
          "output_type": "execute_result",
          "data": {
            "text/plain": [
              "(13, 9)"
            ]
          },
          "metadata": {},
          "execution_count": 5
        }
      ]
    },
    {
      "cell_type": "code",
      "source": [
        "data.dtypes"
      ],
      "metadata": {
        "colab": {
          "base_uri": "https://localhost:8080/"
        },
        "id": "Qu97H9GgXGj1",
        "outputId": "d64cb82c-7f6c-4b99-acb7-7c33ec1d418b"
      },
      "execution_count": 6,
      "outputs": [
        {
          "output_type": "execute_result",
          "data": {
            "text/plain": [
              "Container No.               float64\n",
              "Object name                  object\n",
              "Object size                   int64\n",
              "Object Type                  object\n",
              "Hash value (MD5)             object\n",
              "Hash value (SHA1)            object\n",
              "Timestamp            datetime64[ns]\n",
              "Source IP address            object\n",
              "Integrity check              object\n",
              "dtype: object"
            ]
          },
          "metadata": {},
          "execution_count": 6
        }
      ]
    },
    {
      "cell_type": "code",
      "source": [
        "#missing values\n",
        "data.isna().sum()"
      ],
      "metadata": {
        "colab": {
          "base_uri": "https://localhost:8080/"
        },
        "id": "itCu3AGkXQH2",
        "outputId": "89508135-94b6-40da-d118-5e7fcaa1b885"
      },
      "execution_count": 7,
      "outputs": [
        {
          "output_type": "execute_result",
          "data": {
            "text/plain": [
              "Container No.        1\n",
              "Object name          0\n",
              "Object size          0\n",
              "Object Type          0\n",
              "Hash value (MD5)     0\n",
              "Hash value (SHA1)    0\n",
              "Timestamp            0\n",
              "Source IP address    0\n",
              "Integrity check      0\n",
              "dtype: int64"
            ]
          },
          "metadata": {},
          "execution_count": 7
        }
      ]
    },
    {
      "cell_type": "code",
      "source": [
        "data.groupby(data['Integrity check']).size()"
      ],
      "metadata": {
        "colab": {
          "base_uri": "https://localhost:8080/"
        },
        "id": "uKzXkdN_2AoP",
        "outputId": "25bdd786-d42b-49bb-e5d3-4ec8d0d8b697"
      },
      "execution_count": 8,
      "outputs": [
        {
          "output_type": "execute_result",
          "data": {
            "text/plain": [
              "Integrity check\n",
              "corrupted    5\n",
              "intact       8\n",
              "dtype: int64"
            ]
          },
          "metadata": {},
          "execution_count": 8
        }
      ]
    },
    {
      "cell_type": "code",
      "source": [
        "data.groupby(data['Source IP address']).size()"
      ],
      "metadata": {
        "colab": {
          "base_uri": "https://localhost:8080/"
        },
        "id": "QPzJ-mqH2JOO",
        "outputId": "bd94d6e3-d14f-4697-bbfc-a68886a50fbd"
      },
      "execution_count": 9,
      "outputs": [
        {
          "output_type": "execute_result",
          "data": {
            "text/plain": [
              "Source IP address\n",
              "192.168.1.17    3\n",
              "192.168.1.18    5\n",
              "192.168.1.19    1\n",
              "192.168.1.20    4\n",
              "dtype: int64"
            ]
          },
          "metadata": {},
          "execution_count": 9
        }
      ]
    },
    {
      "cell_type": "markdown",
      "source": [
        "data['Object name'].nunique()"
      ],
      "metadata": {
        "id": "QXeLP77k-OKm"
      }
    },
    {
      "cell_type": "code",
      "source": [
        "#Compare Hash Values#\n",
        "import hashlib\n",
        "\n",
        "def calculate_hash(file_path, algorithm=\"md5\"):\n",
        "    # Open the file in binary mode\n",
        "    with open(file_path, \"rb\") as f:\n",
        "        # Read the file in chunks for efficiency\n",
        "        chunk_size = 8192\n",
        "        hash_algorithm = hashlib.md5() if algorithm.lower() == \"md5\" else hashlib.sha1()\n",
        "\n",
        "        while chunk := f.read(chunk_size):\n",
        "            hash_algorithm.update(chunk)\n",
        "\n",
        "    # Return the hexadecimal representation of the hash\n",
        "    return hash_algorithm.hexdigest()\n",
        "\n",
        "def check_file_integrity(file_path, expected_md5, expected_sha1):\n",
        "    # Calculate the hash values\n",
        "    actual_md5 = calculate_hash(file_path, algorithm=\"md5\")\n",
        "    actual_sha1 = calculate_hash(file_path, algorithm=\"sha1\")\n",
        "\n",
        "    # Compare with expected hash values\n",
        "    md5_match = (actual_md5 == expected_md5)\n",
        "    sha1_match = (actual_sha1 == expected_sha1)\n",
        "\n",
        "    return md5_match, sha1_match\n",
        "\n",
        "# Example usage\n",
        "file_path = \"/content/dataset.xlsx\"\n",
        "expected_md5 = \"data('Hash value (MD5)')\"\n",
        "expected_sha1 = \"data('Hash value (SHA1)')\"\n",
        "\n",
        "md5_match, sha1_match = check_file_integrity(file_path, expected_md5, expected_sha1)\n",
        "\n",
        "if md5_match and sha1_match:\n",
        "    print(\"File integrity is intact.\")\n",
        "else:\n",
        "    print(\"File integrity issue detected.\")\n"
      ],
      "metadata": {
        "colab": {
          "base_uri": "https://localhost:8080/"
        },
        "id": "LLxqUzm4LNBl",
        "outputId": "e26281e9-1522-4cdf-b09f-efc15afdde22"
      },
      "execution_count": 10,
      "outputs": [
        {
          "output_type": "stream",
          "name": "stdout",
          "text": [
            "File integrity issue detected.\n"
          ]
        }
      ]
    },
    {
      "cell_type": "code",
      "source": [
        "#Visualization\n",
        "import matplotlib.pyplot as plt\n",
        "import seaborn as sns\n",
        "\n",
        "# Bar Chart for Integrity Labels\n",
        "plt.figure(figsize=(8, 5))\n",
        "sns.countplot(x='Integrity check', data=data)\n",
        "plt.title('Distribution of Integrity Labels')\n",
        "plt.show()"
      ],
      "metadata": {
        "colab": {
          "base_uri": "https://localhost:8080/",
          "height": 487
        },
        "id": "Ej5imaepESpk",
        "outputId": "f6f30693-b31a-4c1c-9c18-e4264c43d443"
      },
      "execution_count": 11,
      "outputs": [
        {
          "output_type": "display_data",
          "data": {
            "text/plain": [
              "<Figure size 800x500 with 1 Axes>"
            ],
            "image/png": "[encoded data removed]"
          },
          "metadata": {}
        }
      ]
    },
    {
      "cell_type": "code",
      "source": [
        "# Pie Chart for File Types\n",
        "plt.figure(figsize=(8, 8))\n",
        "data['Object Type'].value_counts().plot.pie(autopct='%1.1f%%', startangle=90)\n",
        "plt.title('Distribution of File Types')\n",
        "plt.show()"
      ],
      "metadata": {
        "colab": {
          "base_uri": "https://localhost:8080/",
          "height": 675
        },
        "id": "gMHzfoxlJtml",
        "outputId": "c95c92f9-9aa6-4eec-f19a-1bab57208577"
      },
      "execution_count": 12,
      "outputs": [
        {
          "output_type": "display_data",
          "data": {
            "text/plain": [
              "<Figure size 800x800 with 1 Axes>"
            ],
            "image/png": "[encoded data removed]"
          },
          "metadata": {}
        }
      ]
    },
    {
      "cell_type": "code",
      "source": [
        "# Histograms for File Size\n",
        "plt.figure(figsize=(10, 6))\n",
        "sns.histplot(x='Object size', data=data, hue='Integrity check', kde=True)\n",
        "plt.title('Distribution of File Sizes by Integrity Label')\n",
        "plt.show()"
      ],
      "metadata": {
        "colab": {
          "base_uri": "https://localhost:8080/",
          "height": 564
        },
        "id": "KebBEelmJrJO",
        "outputId": "6bc3c341-81a5-4023-f1a7-71b9a22611fd"
      },
      "execution_count": 13,
      "outputs": [
        {
          "output_type": "display_data",
          "data": {
            "text/plain": [
              "<Figure size 1000x600 with 1 Axes>"
            ],
            "image/png": "[encoded data removed]"
          },
          "metadata": {}
        }
      ]
    },
    {
      "cell_type": "code",
      "source": [
        "# Box Plots for File Size by Integrity Label\n",
        "plt.figure(figsize=(8, 5))\n",
        "sns.boxplot(x='Integrity check', y='Object size', data=data)\n",
        "plt.title('File Size Distribution by Integrity Label')\n",
        "plt.show()"
      ],
      "metadata": {
        "colab": {
          "base_uri": "https://localhost:8080/",
          "height": 487
        },
        "id": "sD_tDdZ0JB04",
        "outputId": "2f34a3c1-d475-4056-d95a-f8a7699f1e6a"
      },
      "execution_count": 14,
      "outputs": [
        {
          "output_type": "display_data",
          "data": {
            "text/plain": [
              "<Figure size 800x500 with 1 Axes>"
            ],
            "image/png": "[encoded data removed]"
          },
          "metadata": {}
        }
      ]
    },
    {
      "cell_type": "code",
      "source": [
        "# Heatmap for Correlation Matrix\n",
        "plt.figure(figsize=(8, 6))\n",
        "sns.heatmap(data.corr(), annot=True, cmap='coolwarm', fmt='.2f')\n",
        "plt.title('Correlation Matrix Heatmap')\n",
        "plt.show()"
      ],
      "metadata": {
        "colab": {
          "base_uri": "https://localhost:8080/",
          "height": 545
        },
        "id": "7kURXWeMI8Vp",
        "outputId": "e9cbbfa1-7e99-4ccc-cf6d-6f561a747e76"
      },
      "execution_count": 15,
      "outputs": [
        {
          "output_type": "display_data",
          "data": {
            "text/plain": [
              "<Figure size 800x600 with 2 Axes>"
            ],
            "image/png": "[encoded data removed]"
          },
          "metadata": {}
        }
      ]
    },
    {
      "cell_type": "code",
      "source": [
        "# Violin Plots for File Types and Features\n",
        "plt.figure(figsize=(12, 8))\n",
        "sns.violinplot(x='Object Type', y='Object size', data=data, hue='Integrity check', split=True, inner='quartile')\n",
        "plt.title('Violin Plot: File Size Distribution by File Type and Integrity Label')\n",
        "plt.show()"
      ],
      "metadata": {
        "colab": {
          "base_uri": "https://localhost:8080/",
          "height": 668
        },
        "id": "R2uiINRzI2Fo",
        "outputId": "c6e36517-b767-4cce-f9d3-3c819a6aea71"
      },
      "execution_count": 16,
      "outputs": [
        {
          "output_type": "display_data",
          "data": {
            "text/plain": [
              "<Figure size 1200x800 with 1 Axes>"
            ],
            "image/png": "[encoded data removed]"
          },
          "metadata": {}
        }
      ]
    },
    {
      "cell_type": "code",
      "source": [
        "#Data Preprocessing & Model Building\n",
        "from sklearn.ensemble import RandomForestClassifier\n",
        "from sklearn.model_selection import train_test_split\n",
        "from sklearn.preprocessing import OneHotEncoder\n",
        "from sklearn.compose import ColumnTransformer\n",
        "\n",
        "# Assuming you have a DataFrame 'df' with columns: 'md5', 'sha1', 'file_size', 'file_type', 'label'\n",
        "\n",
        "# Drop 'md5' and 'sha1' columns for now\n",
        "df = data.drop(['Hash value (MD5)', 'Hash value (SHA1)'], axis=1)\n",
        "\n",
        "# Features (X) and Labels (y)\n",
        "X = df[['Object size', 'Object Type']]\n",
        "y = df['Integrity check']\n",
        "\n",
        "# One-hot encode categorical features\n",
        "column_transformer = ColumnTransformer(\n",
        "    transformers=[\n",
        "        ('encoder', OneHotEncoder(), ['Object Type'])\n",
        "    ],\n",
        "    remainder='passthrough'\n",
        ")\n",
        "\n",
        "X_encoded = column_transformer.fit_transform(X)\n",
        "\n",
        "# Split the dataset\n",
        "X_train, X_test, y_train, y_test = train_test_split(X_encoded, y, test_size=0.2, random_state=42)\n",
        "\n",
        "# Initialize the model\n",
        "model = RandomForestClassifier()\n",
        "\n",
        "# Train the model\n",
        "model.fit(X_train, y_train)\n",
        "\n",
        "# Make predictions on the entire dataset\n",
        "df['predicted_label'] = model.predict(X_encoded)\n",
        "\n",
        "# Check for integrity issues\n",
        "integrity_issues = df[df['Integrity check'] != df['predicted_label']]\n",
        "\n",
        "# Display files with integrity issues\n",
        "print(\"Files with Integrity Issues:\")\n",
        "print(integrity_issues[['Object size', 'Object Type', 'Integrity check', 'predicted_label']])"
      ],
      "metadata": {
        "colab": {
          "base_uri": "https://localhost:8080/"
        },
        "id": "fsYDoegFKVOU",
        "outputId": "969fe3e2-95e9-46ce-b334-f82549ee6226"
      },
      "execution_count": 17,
      "outputs": [
        {
          "output_type": "stream",
          "name": "stdout",
          "text": [
            "Files with Integrity Issues:\n",
            "Empty DataFrame\n",
            "Columns: [Object size, Object Type, Integrity check, predicted_label]\n",
            "Index: []\n"
          ]
        }
      ]
    },
    {
      "cell_type": "code",
      "source": [
        "#Evaluation Matrices\n",
        "from sklearn.metrics import accuracy_score, confusion_matrix, classification_report\n",
        "\n",
        "# Make predictions on the test set\n",
        "y_pred = model.predict(X_test)\n",
        "\n",
        "# Evaluate the model\n",
        "accuracy = accuracy_score(y_test, y_pred)\n",
        "conf_matrix = confusion_matrix(y_test, y_pred)\n",
        "class_report = classification_report(y_test, y_pred)\n",
        "\n",
        "# Display evaluation metrics\n",
        "print(\"\\nModel Evaluation:\")\n",
        "print(f\"Accuracy: {accuracy:.4f}\")\n",
        "print(\"\\nConfusion Matrix:\")\n",
        "print(conf_matrix)\n",
        "print(\"\\nClassification Report:\")\n",
        "print(class_report)"
      ],
      "metadata": {
        "colab": {
          "base_uri": "https://localhost:8080/"
        },
        "id": "F-PxGIBULOZZ",
        "outputId": "957c3669-5441-4d42-9642-56c18a8b5fc5"
      },
      "execution_count": 18,
      "outputs": [
        {
          "output_type": "stream",
          "name": "stdout",
          "text": [
            "\n",
            "Model Evaluation:\n",
            "Accuracy: 1.0000\n",
            "\n",
            "Confusion Matrix:\n",
            "[[1 0]\n",
            " [0 2]]\n",
            "\n",
            "Classification Report:\n",
            "              precision    recall  f1-score   support\n",
            "\n",
            "   corrupted       1.00      1.00      1.00         1\n",
            "      intact       1.00      1.00      1.00         2\n",
            "\n",
            "    accuracy                           1.00         3\n",
            "   macro avg       1.00      1.00      1.00         3\n",
            "weighted avg       1.00      1.00      1.00         3\n",
            "\n"
          ]
        }
      ]
    },
    {
      "cell_type": "markdown",
      "source": [
        "*Confusion Matrix:*\n",
        "\n",
        "The diagonal elements represent the number of instances where the predicted label matches the true label.\n",
        "In this case, there is 1 instance of 'corrupted' correctly predicted, and 2 instances of 'intact' correctly predicted.\n",
        "\n",
        "*Classification Report:*\n",
        "\n",
        " Precision: The model's ability to correctly identify instances of a specific class. In both classes, precision is 1.00, indicating perfect precision.\n",
        "\n",
        "Recall (Sensitivity): The proportion of actual positive instances that were correctly predicted by the model. Recall is 1.00 for both classes.\n",
        "\n",
        "F1-Score: The harmonic mean of precision and recall. It is also 1.00 for both classes.\n",
        "\n",
        "Support: The number of actual instances of each class in the test set.\n",
        "\n",
        "Accuracy: The overall accuracy of the model, which is 1.00, indicating perfect accuracy."
      ],
      "metadata": {
        "id": "z1447WqWODnh"
      }
    },
    {
      "cell_type": "markdown",
      "source": [
        "**Summary of Model Evaluation:**\n",
        "\n",
        "When evaluating file integrity on the test set, the machine learning model performed flawlessly. The model successfully detected \"corrupted\" and \"intact\" files with 100% accuracy, exhibiting no misclassifications. The robustness of the model was demonstrated by the flawless precision, recall, and F1-score for both classes. Although these are encouraging results, to make sure the model can be applied to a variety of circumstances, it is best to validate it on larger datasets. Sustaining high performance may need regular updates and monitoring."
      ],
      "metadata": {
        "id": "gFSd9-SFNi2B"
      }
    }
  ]
}